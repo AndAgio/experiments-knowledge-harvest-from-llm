{
 "cells": [
  {
   "cell_type": "code",
   "execution_count": 1,
   "metadata": {},
   "outputs": [],
   "source": [
    "from data_utils.ckbc import CKBC"
   ]
  },
  {
   "cell_type": "code",
   "execution_count": 2,
   "metadata": {},
   "outputs": [],
   "source": [
    "import os"
   ]
  },
  {
   "cell_type": "code",
   "execution_count": 3,
   "metadata": {},
   "outputs": [],
   "source": [
    "import numpy as np"
   ]
  },
  {
   "cell_type": "code",
   "execution_count": 4,
   "metadata": {},
   "outputs": [],
   "source": [
    "from scipy.special import softmax"
   ]
  },
  {
   "cell_type": "code",
   "execution_count": 5,
   "metadata": {},
   "outputs": [],
   "source": [
    "from sklearn.metrics import precision_recall_curve"
   ]
  },
  {
   "cell_type": "code",
   "execution_count": 6,
   "metadata": {},
   "outputs": [],
   "source": [
    "import matplotlib.pyplot as plt"
   ]
  },
  {
   "cell_type": "code",
   "execution_count": 7,
   "metadata": {},
   "outputs": [],
   "source": [
    "import json\n",
    "from models.knowledge_harvester import KnowledgeHarvester"
   ]
  },
  {
   "cell_type": "code",
   "execution_count": 8,
   "metadata": {},
   "outputs": [],
   "source": [
    "from tqdm import *"
   ]
  },
  {
   "cell_type": "code",
   "execution_count": 9,
   "metadata": {},
   "outputs": [],
   "source": [
    "def softmax_temperature(x, temperature=1):\n",
    "    x = np.array(x) / temperature\n",
    "    return np.exp(x)/sum(np.exp(x))"
   ]
  },
  {
   "cell_type": "code",
   "execution_count": 11,
   "metadata": {},
   "outputs": [],
   "source": [
    "ckbc = CKBC()\n",
    "# knowledge_harvester = KnowledgeHarvester(\n",
    "#     model_name='roberta-large', max_n_ent_tuples=None)\n",
    "\n",
    "save_dir = 'results/curves_ckbc_temp'\n",
    "os.makedirs(save_dir, exist_ok=True)\n",
    "\n",
    "relation_info = json.load(open('data/relation_info_conceptnet_5seeds.json'))"
   ]
  },
  {
   "cell_type": "code",
   "execution_count": 14,
   "metadata": {},
   "outputs": [],
   "source": [
    "results_list = os.listdir(save_dir)"
   ]
  },
  {
   "cell_type": "code",
   "execution_count": 32,
   "metadata": {},
   "outputs": [
    {
     "data": {
      "text/plain": [
       "['curves_ckbc_tempDefinedAs_10.json',\n",
       " 'curves_ckbc_tempMotivatedByGoal_3.json',\n",
       " 'curves_ckbc_tempMotivatedByGoal_6.json',\n",
       " 'curves_ckbc_tempAtLocation_14.json',\n",
       " 'curves_ckbc_tempCreatedBy_8.json',\n",
       " 'curves_ckbc_tempMadeOf_7.json',\n",
       " 'curves_ckbc_tempHasFirstSubevent_2.json',\n",
       " 'curves_ckbc_tempMotivatedByGoal_1.json',\n",
       " 'curves_ckbc_tempPartOf_10.json',\n",
       " 'curves_ckbc_tempIsA_3.json',\n",
       " 'curves_ckbc_tempHasA_9.json',\n",
       " 'curves_ckbc_tempHasPrerequisite_2.json',\n",
       " 'curves_ckbc_tempPartOf_11.json',\n",
       " 'curves_ckbc_tempCausesDesire_5.json',\n",
       " 'curves_ckbc_tempCreatedBy_1.json',\n",
       " 'curves_ckbc_tempCreatedBy_3.json',\n",
       " 'curves_ckbc_tempCreatedBy_13.json',\n",
       " 'curves_ckbc_tempReceivesAction_6.json',\n",
       " 'curves_ckbc_tempCapableOf_0.json',\n",
       " 'CreatedBy_0_auto.json',\n",
       " 'curves_ckbc_tempMadeOf_14.json',\n",
       " 'curves_ckbc_tempReceivesAction_0.json',\n",
       " 'curves_ckbc_tempHasPrerequisite_7.json',\n",
       " 'curves_ckbc_tempMotivatedByGoal_12.json',\n",
       " 'curves_ckbc_tempCreatedBy_5.json',\n",
       " 'curves_ckbc_tempMadeOf_13.json',\n",
       " 'curves_ckbc_tempHasPrerequisite_4.json',\n",
       " 'curves_ckbc_tempDefinedAs_12.json',\n",
       " 'curves_ckbc_tempUsedFor_3.json',\n",
       " 'curves_ckbc_tempHasA_1.json',\n",
       " 'curves_ckbc_tempHasA_10.json',\n",
       " 'curves_ckbc_tempHasProperty_1.json',\n",
       " 'curves_ckbc_tempCapableOf_9.json',\n",
       " 'curves_ckbc_tempAtLocation_0.json',\n",
       " 'curves_ckbc_tempDefinedAs_4.json',\n",
       " 'curves_ckbc_tempCausesDesire_1.json',\n",
       " 'curves_ckbc_tempUsedFor_11.json',\n",
       " 'curves_ckbc_tempMadeOf_3.json',\n",
       " 'curves_ckbc_tempPartOf_1.json',\n",
       " 'curves_ckbc_tempAtLocation_3.json',\n",
       " 'curves_ckbc_tempReceivesAction_9.json',\n",
       " 'curves_ckbc_tempHasFirstSubevent_6.json',\n",
       " 'PartOf_0_auto.json',\n",
       " 'curves_ckbc_tempDefinedAs_14.json',\n",
       " 'curves_ckbc_tempCausesDesire_11.json',\n",
       " 'curves_ckbc_tempHasFirstSubevent_7.json',\n",
       " 'curves_ckbc_tempIsA_0.json',\n",
       " 'ReceivesAction_0_auto.json',\n",
       " 'curves_ckbc_tempIsA_14.json',\n",
       " 'curves_ckbc_tempCausesDesire_0.json',\n",
       " 'curves_ckbc_tempDefinedAs_1.json',\n",
       " 'curves_ckbc_tempPartOf_7.json',\n",
       " 'curves_ckbc_tempDefinedAs_2.json',\n",
       " 'curves_ckbc_tempIsA_13.json',\n",
       " 'curves_ckbc_tempHasA_4.json',\n",
       " 'curves_ckbc_tempHasPrerequisite_0.json',\n",
       " 'curves_ckbc_tempAtLocation_10.json',\n",
       " 'curves_ckbc_tempCreatedBy_9.json',\n",
       " 'curves_ckbc_tempIsA_12.json',\n",
       " 'curves_ckbc_tempUsedFor_13.json',\n",
       " 'curves_ckbc_tempMotivatedByGoal_9.json',\n",
       " 'curves_ckbc_tempCausesDesire_10.json',\n",
       " 'curves_ckbc_tempPartOf_2.json',\n",
       " 'curves_ckbc_tempMadeOf_0.json',\n",
       " 'curves_ckbc_tempHasProperty_11.json',\n",
       " 'curves_ckbc_tempCapableOf_10.json',\n",
       " 'curves_ckbc_tempDefinedAs_6.json',\n",
       " 'curves_ckbc_tempAtLocation_15.json',\n",
       " 'curves_ckbc_tempMadeOf_9.json',\n",
       " 'curves_ckbc_tempUsedFor_12.json',\n",
       " 'curves_ckbc_tempMadeOf_2.json',\n",
       " 'curves_ckbc_tempDefinedAs_13.json',\n",
       " 'curves_ckbc_tempHasPrerequisite_3.json',\n",
       " 'curves_ckbc_tempMotivatedByGoal_2.json',\n",
       " 'curves_ckbc_tempCreatedBy_6.json',\n",
       " 'curves_ckbc_tempReceivesAction_3.json',\n",
       " 'curves_ckbc_tempMotivatedByGoal_10.json',\n",
       " 'curves_ckbc_tempAtLocation_5.json',\n",
       " 'curves_ckbc_tempReceivesAction_8.json',\n",
       " 'curves_ckbc_tempUsedFor_14.json',\n",
       " 'curves_ckbc_tempDefinedAs_3.json',\n",
       " 'Desires_0_auto.json',\n",
       " 'HasFirstSubevent_0_auto.json',\n",
       " 'curves_ckbc_tempCauses_5.json',\n",
       " 'curves_ckbc_tempHasLastSubevent_6.json',\n",
       " 'curves_ckbc_tempHasFirstSubevent_11.json',\n",
       " 'curves_ckbc_tempHasProperty_2.json',\n",
       " 'curves_ckbc_tempMotivatedByGoal_5.json',\n",
       " 'curves_ckbc_tempHasFirstSubevent_0.json',\n",
       " 'curves_ckbc_tempCreatedBy_2.json',\n",
       " 'curves_ckbc_tempUsedFor_15.json',\n",
       " 'curves_ckbc_tempCauses_8.json',\n",
       " 'curves_ckbc_tempDefinedAs_0.json',\n",
       " 'curves_ckbc_tempUsedFor_18.json',\n",
       " 'curves_ckbc_tempIsA_6.json',\n",
       " 'curves_ckbc_tempUsedFor_9.json',\n",
       " 'curves_ckbc_tempUsedFor_0.json',\n",
       " 'curves_ckbc_tempHasA_3.json',\n",
       " 'curves_ckbc_tempUsedFor_4.json',\n",
       " 'curves_ckbc_tempCausesDesire_6.json',\n",
       " 'curves_ckbc_tempHasLastSubevent_7.json',\n",
       " 'curves_ckbc_tempUsedFor_17.json',\n",
       " 'curves_ckbc_tempPartOf_3.json',\n",
       " 'curves_ckbc_tempHasProperty_5.json',\n",
       " 'curves_ckbc_tempCapableOf_6.json',\n",
       " 'curves_ckbc_tempIsA_9.json',\n",
       " 'curves_ckbc_tempPartOf_9.json',\n",
       " 'curves_ckbc_tempMadeOf_11.json',\n",
       " 'curves_ckbc_tempHasFirstSubevent_13.json',\n",
       " 'curves_ckbc_tempHasProperty_3.json',\n",
       " 'curves_ckbc_tempHasProperty_8.json',\n",
       " 'curves_ckbc_tempHasLastSubevent_10.json',\n",
       " 'curves_ckbc_tempReceivesAction_5.json',\n",
       " 'curves_ckbc_tempCausesDesire_7.json',\n",
       " 'curves_ckbc_tempAtLocation_13.json',\n",
       " 'UsedFor_0_auto.json',\n",
       " 'curves_ckbc_tempCapableOf_4.json',\n",
       " 'curves_ckbc_tempCapableOf_3.json',\n",
       " 'curves_ckbc_tempHasPrerequisite_6.json',\n",
       " 'curves_ckbc_tempAtLocation_2.json',\n",
       " 'curves_ckbc_tempHasProperty_4.json',\n",
       " 'curves_ckbc_tempCausesDesire_9.json',\n",
       " 'curves_ckbc_tempIsA_10.json',\n",
       " 'curves_ckbc_tempCapableOf_1.json',\n",
       " 'curves_ckbc_tempIsA_2.json',\n",
       " 'Causes_0_auto.json',\n",
       " 'curves_ckbc_tempMotivatedByGoal_8.json',\n",
       " 'curves_ckbc_tempCauses_4.json',\n",
       " 'curves_ckbc_tempUsedFor_7.json',\n",
       " 'IsA_0_auto.json',\n",
       " 'curves_ckbc_tempPartOf_4.json',\n",
       " 'curves_ckbc_tempCapableOf_2.json',\n",
       " 'curves_ckbc_tempCreatedBy_15.json',\n",
       " 'curves_ckbc_tempHasFirstSubevent_3.json',\n",
       " 'curves_ckbc_tempHasLastSubevent_2.json',\n",
       " 'curves_ckbc_tempCausesDesire_3.json',\n",
       " 'curves_ckbc_tempMotivatedByGoal_7.json',\n",
       " 'curves_ckbc_tempHasProperty_10.json',\n",
       " 'curves_ckbc_tempHasLastSubevent_5.json',\n",
       " 'curves_ckbc_tempUsedFor_2.json',\n",
       " 'curves_ckbc_tempIsA_4.json',\n",
       " 'curves_ckbc_tempUsedFor_10.json',\n",
       " 'curves_ckbc_tempMadeOf_12.json',\n",
       " 'curves_ckbc_tempHasFirstSubevent_8.json',\n",
       " 'curves_ckbc_tempAtLocation_16.json',\n",
       " 'curves_ckbc_tempCauses_3.json',\n",
       " 'curves_ckbc_tempCauses_7.json',\n",
       " 'curves_ckbc_tempDefinedAs_9.json',\n",
       " 'curves_ckbc_tempCreatedBy_4.json',\n",
       " 'curves_ckbc_tempReceivesAction_7.json',\n",
       " 'curves_ckbc_tempUsedFor_1.json',\n",
       " 'curves_ckbc_tempMotivatedByGoal_11.json',\n",
       " 'curves_ckbc_tempReceivesAction_1.json',\n",
       " 'CausesDesire_0_auto.json',\n",
       " 'curves_ckbc_tempUsedFor_8.json',\n",
       " 'curves_ckbc_tempDefinedAs_5.json',\n",
       " 'curves_ckbc_tempCauses_2.json',\n",
       " 'curves_ckbc_tempUsedFor_5.json',\n",
       " 'curves_ckbc_tempUsedFor_16.json',\n",
       " 'curves_ckbc_tempHasA_2.json',\n",
       " 'curves_ckbc_tempCapableOf_5.json',\n",
       " 'curves_ckbc_tempCreatedBy_0.json',\n",
       " 'curves_ckbc_tempAtLocation_1.json',\n",
       " 'curves_ckbc_tempMadeOf_8.json',\n",
       " 'HasProperty_0_auto.json',\n",
       " 'curves_ckbc_tempCauses_6.json',\n",
       " 'curves_ckbc_tempHasA_11.json',\n",
       " 'curves_ckbc_tempCausesDesire_8.json',\n",
       " 'curves_ckbc_tempDesires_1.json',\n",
       " 'curves_ckbc_tempCapableOf_8.json',\n",
       " 'curves_ckbc_tempCauses_1.json',\n",
       " 'curves_ckbc_tempHasLastSubevent_0.json',\n",
       " 'curves_ckbc_tempHasProperty_0.json',\n",
       " 'curves_ckbc_tempDefinedAs_7.json',\n",
       " 'curves_ckbc_tempReceivesAction_10.json',\n",
       " 'curves_ckbc_tempAtLocation_8.json',\n",
       " 'DefinedAs_0_auto.json',\n",
       " 'curves_ckbc_tempCreatedBy_12.json',\n",
       " 'curves_ckbc_tempHasFirstSubevent_1.json',\n",
       " 'curves_ckbc_tempHasPrerequisite_5.json',\n",
       " 'curves_ckbc_tempCreatedBy_7.json',\n",
       " 'MotivatedByGoal_0_auto.json',\n",
       " 'curves_ckbc_tempMadeOf_6.json',\n",
       " 'curves_ckbc_tempHasA_5.json',\n",
       " 'curves_ckbc_tempHasFirstSubevent_10.json',\n",
       " 'HasPrerequisite_0_auto.json',\n",
       " 'curves_ckbc_tempIsA_5.json',\n",
       " 'curves_ckbc_tempPartOf_0.json',\n",
       " 'curves_ckbc_tempHasLastSubevent_9.json',\n",
       " 'curves_ckbc_tempMotivatedByGoal_4.json',\n",
       " 'curves_ckbc_tempAtLocation_11.json',\n",
       " 'HasLastSubevent_0_auto.json',\n",
       " 'curves_ckbc_tempMadeOf_4.json',\n",
       " 'curves_ckbc_tempHasLastSubevent_3.json',\n",
       " 'curves_ckbc_tempCapableOf_7.json',\n",
       " 'curves_ckbc_tempDefinedAs_15.json',\n",
       " 'HasA_0_auto.json',\n",
       " 'curves_ckbc_tempHasA_8.json',\n",
       " 'curves_ckbc_tempCapableOf_11.json',\n",
       " 'curves_ckbc_tempPartOf_6.json',\n",
       " 'curves_ckbc_tempDefinedAs_11.json',\n",
       " 'curves_ckbc_tempCauses_11.json',\n",
       " 'curves_ckbc_tempMotivatedByGoal_0.json',\n",
       " 'curves_ckbc_tempHasLastSubevent_4.json',\n",
       " 'curves_ckbc_tempDesires_0.json',\n",
       " 'curves_ckbc_tempAtLocation_6.json',\n",
       " 'curves_ckbc_tempHasFirstSubevent_5.json',\n",
       " 'curves_ckbc_tempAtLocation_9.json',\n",
       " 'curves_ckbc_tempPartOf_12.json',\n",
       " 'curves_ckbc_tempHasFirstSubevent_12.json',\n",
       " 'curves_ckbc_tempPartOf_5.json',\n",
       " 'curves_ckbc_tempHasA_0.json',\n",
       " 'curves_ckbc_tempHasProperty_13.json',\n",
       " 'curves_ckbc_tempCapableOf_13.json',\n",
       " 'curves_ckbc_tempHasA_7.json',\n",
       " 'curves_ckbc_tempCreatedBy_11.json',\n",
       " 'curves_ckbc_tempHasLastSubevent_1.json',\n",
       " 'curves_ckbc_tempIsA_15.json',\n",
       " 'curves_ckbc_tempHasLastSubevent_8.json',\n",
       " 'curves_ckbc_tempReceivesAction_4.json',\n",
       " 'curves_ckbc_tempHasA_6.json',\n",
       " 'curves_ckbc_tempHasProperty_7.json',\n",
       " 'curves_ckbc_tempCauses_0.json',\n",
       " 'curves_ckbc_tempIsA_8.json',\n",
       " 'curves_ckbc_tempPartOf_8.json',\n",
       " 'AtLocation_0_auto.json',\n",
       " 'curves_ckbc_tempCreatedBy_14.json',\n",
       " 'curves_ckbc_tempCausesDesire_4.json',\n",
       " 'curves_ckbc_tempMadeOf_5.json',\n",
       " 'curves_ckbc_tempReceivesAction_2.json',\n",
       " 'MadeOf_0_auto.json',\n",
       " 'curves_ckbc_tempPartOf_13.json',\n",
       " 'curves_ckbc_tempCauses_9.json',\n",
       " 'curves_ckbc_tempDefinedAs_8.json',\n",
       " 'curves_ckbc_tempHasFirstSubevent_4.json',\n",
       " 'CapableOf_0_auto.json',\n",
       " 'curves_ckbc_tempIsA_11.json',\n",
       " 'curves_ckbc_tempCausesDesire_2.json',\n",
       " 'curves_ckbc_tempAtLocation_12.json',\n",
       " 'curves_ckbc_tempMadeOf_1.json',\n",
       " 'curves_ckbc_tempCapableOf_12.json',\n",
       " 'curves_ckbc_tempHasProperty_9.json',\n",
       " 'curves_ckbc_tempAtLocation_7.json',\n",
       " 'curves_ckbc_tempHasFirstSubevent_9.json',\n",
       " 'curves_ckbc_tempUsedFor_6.json',\n",
       " 'curves_ckbc_tempHasPrerequisite_1.json',\n",
       " 'curves_ckbc_tempCauses_10.json',\n",
       " 'curves_ckbc_tempIsA_1.json',\n",
       " 'curves_ckbc_tempIsA_7.json',\n",
       " 'curves_ckbc_tempAtLocation_4.json',\n",
       " 'curves_ckbc_tempCreatedBy_10.json',\n",
       " 'curves_ckbc_tempHasProperty_6.json',\n",
       " 'curves_ckbc_tempHasProperty_12.json',\n",
       " 'curves_ckbc_tempMadeOf_10.json']"
      ]
     },
     "execution_count": 32,
     "metadata": {},
     "output_type": "execute_result"
    }
   ],
   "source": [
    "results_list"
   ]
  },
  {
   "cell_type": "code",
   "execution_count": 16,
   "metadata": {},
   "outputs": [],
   "source": [
    "label_dic = {\n",
    "    0: \"initial\",\n",
    "    1: \"top-1\",\n",
    "    3: \"top-3\",\n",
    "    5: \"top-5\",\n",
    "    10: \"top-10\",\n",
    "    20: \"top-20\",\n",
    "    100: \"auto\"\n",
    "}"
   ]
  },
  {
   "cell_type": "code",
   "execution_count": 132,
   "metadata": {
    "scrolled": false
   },
   "outputs": [
    {
     "name": "stderr",
     "output_type": "stream",
     "text": [
      "100%|██████████████████████████████| 20/20 [00:00<00:00, 23689.94it/s]"
     ]
    },
    {
     "name": "stdout",
     "output_type": "stream",
     "text": [
      "AtLocation\n",
      "CapableOf\n",
      "Causes\n",
      "CausesDesire\n",
      "Desires\n",
      "HasA\n",
      "HasPrerequisite\n",
      "HasProperty\n",
      "IsA\n",
      "MotivatedByGoal\n",
      "UsedFor\n"
     ]
    },
    {
     "name": "stderr",
     "output_type": "stream",
     "text": [
      "\n"
     ]
    }
   ],
   "source": [
    "for rel, info in tqdm(relation_info.items()):\n",
    "    if rel not in ckbc._ent_tuples:\n",
    "        continue\n",
    "    ent_tuples = ckbc.get_ent_tuples(rel=rel)\n",
    "    if len(ent_tuples) < 1000:\n",
    "        continue\n",
    "    print(rel)"
   ]
  },
  {
   "cell_type": "code",
   "execution_count": 41,
   "metadata": {},
   "outputs": [],
   "source": [
    "def plot_n(n=0, temperature=1):\n",
    "    pr_list = []\n",
    "    int_r = np.arange(0, 1, 1/2000)\n",
    "    for rel, info in tqdm(relation_info.items()):\n",
    "        if rel not in ckbc._ent_tuples:\n",
    "            continue\n",
    "        ent_tuples = ckbc.get_ent_tuples(rel=rel)\n",
    "        if len(ent_tuples) < 1000:\n",
    "            continue\n",
    "        if n == 0:\n",
    "            results = [json.load(open(os.path.join(save_dir, name))) for name in results_list if name.split(\"_\")[-2].endswith(rel) and \"_0.\" in name]\n",
    "        elif n == 100:  # auto\n",
    "            results = [json.load(open(os.path.join(save_dir, name))) for name in results_list if name.split(\"_\")[0] == rel and \"_0_auto.\" in name]\n",
    "        else:\n",
    "            results = [json.load(open(os.path.join(save_dir, name))) for name in results_list if name.split(\"_\")[-2].endswith(rel) and \"_0.\" not in name]\n",
    "            results = sorted(results, key=lambda x: -x[\"weight\"][0])[:n]\n",
    "        # print(len(results))\n",
    "        prompt_weights = [i[\"weight\"][0] for i in results]\n",
    "        # print(prompt_weights)\n",
    "        prompt_weights = softmax_temperature(prompt_weights, temperature)\n",
    "        # print(prompt_weights)\n",
    "        # print(rel, prompt_weights)\n",
    "        score_dicts = [{(pair[0], pair[1]): score for pair, score in i[\"scores\"]} for i in results]\n",
    "        y_true, scores = [], []\n",
    "        for tup in ent_tuples:\n",
    "            label = ckbc.get_label(rel=rel, ent_tuple=tup)\n",
    "            y_true.append(label)\n",
    "            cur_score = sum([i* j[(tup[0], tup[1])] for i, j in zip(prompt_weights, score_dicts)])\n",
    "            scores.append(cur_score)\n",
    "        scores_labels = list(zip(scores, y_true, ent_tuples))\n",
    "        scores_labels.sort(key=lambda x: x[0], reverse=True)\n",
    "        precision, recall = [], []\n",
    "        tp, p, t = 0, 0, sum(y_true)\n",
    "        for score, label, ent_tuple in scores_labels:\n",
    "            p += 1\n",
    "            tp += label\n",
    "            precision.append(tp / p)\n",
    "            recall.append(tp / t)\n",
    "\n",
    "        # precision, recall, _ = precision_recall_curve(y_true, scores)\n",
    "        # print(precision[-10:])\n",
    "        int_p = np.interp(int_r, recall, precision)\n",
    "        pr_list.append((int_p))\n",
    "    plt.plot(int_r, np.array(pr_list).mean(0), label=label_dic[n] + \"_temp_\" + str(temperature))\n",
    "    # plt.plot(int_r, np.array(pr_list).mean(0), label=label_dic[n])\n",
    "        # print(scores)"
   ]
  },
  {
   "cell_type": "code",
   "execution_count": 44,
   "metadata": {
    "scrolled": false
   },
   "outputs": [
    {
     "name": "stderr",
     "output_type": "stream",
     "text": [
      " 35%|███████████▉                      | 7/20 [00:00<00:00, 68.28it/s]"
     ]
    },
    {
     "name": "stdout",
     "output_type": "stream",
     "text": [
      "1\n",
      "1\n",
      "1\n",
      "1\n",
      "1\n",
      "1\n",
      "1\n",
      "1\n",
      "1\n"
     ]
    },
    {
     "name": "stderr",
     "output_type": "stream",
     "text": [
      "100%|█████████████████████████████████| 20/20 [00:00<00:00, 55.46it/s]\n"
     ]
    },
    {
     "name": "stdout",
     "output_type": "stream",
     "text": [
      "1\n",
      "1\n"
     ]
    },
    {
     "name": "stderr",
     "output_type": "stream",
     "text": [
      "\r",
      "  0%|                                          | 0/20 [00:00<?, ?it/s]"
     ]
    },
    {
     "name": "stdout",
     "output_type": "stream",
     "text": [
      "1\n"
     ]
    },
    {
     "name": "stderr",
     "output_type": "stream",
     "text": [
      "\r",
      " 10%|███▍                              | 2/20 [00:00<00:02,  8.94it/s]"
     ]
    },
    {
     "name": "stdout",
     "output_type": "stream",
     "text": [
      "1\n"
     ]
    },
    {
     "name": "stderr",
     "output_type": "stream",
     "text": [
      "\r",
      " 20%|██████▊                           | 4/20 [00:00<00:01,  9.92it/s]"
     ]
    },
    {
     "name": "stdout",
     "output_type": "stream",
     "text": [
      "1\n",
      "1\n",
      "1\n",
      "1\n",
      "1\n"
     ]
    },
    {
     "name": "stderr",
     "output_type": "stream",
     "text": [
      "\r",
      " 60%|███████████████████▊             | 12/20 [00:00<00:00, 23.18it/s]"
     ]
    },
    {
     "name": "stdout",
     "output_type": "stream",
     "text": [
      "1\n"
     ]
    },
    {
     "name": "stderr",
     "output_type": "stream",
     "text": [
      "\r",
      " 80%|██████████████████████████▍      | 16/20 [00:00<00:00, 22.17it/s]"
     ]
    },
    {
     "name": "stdout",
     "output_type": "stream",
     "text": [
      "1\n",
      "1\n"
     ]
    },
    {
     "name": "stderr",
     "output_type": "stream",
     "text": [
      "100%|█████████████████████████████████| 20/20 [00:00<00:00, 20.31it/s]\n"
     ]
    },
    {
     "name": "stdout",
     "output_type": "stream",
     "text": [
      "1\n"
     ]
    },
    {
     "name": "stderr",
     "output_type": "stream",
     "text": [
      " 10%|███▍                              | 2/20 [00:00<00:01, 11.14it/s]"
     ]
    },
    {
     "name": "stdout",
     "output_type": "stream",
     "text": [
      "3\n",
      "3\n"
     ]
    },
    {
     "name": "stderr",
     "output_type": "stream",
     "text": [
      "\r",
      " 20%|██████▊                           | 4/20 [00:00<00:01, 11.86it/s]"
     ]
    },
    {
     "name": "stdout",
     "output_type": "stream",
     "text": [
      "3\n",
      "3\n",
      "1\n",
      "3\n",
      "3\n",
      "3\n"
     ]
    },
    {
     "name": "stderr",
     "output_type": "stream",
     "text": [
      "100%|█████████████████████████████████| 20/20 [00:00<00:00, 23.08it/s]\n"
     ]
    },
    {
     "name": "stdout",
     "output_type": "stream",
     "text": [
      "3\n",
      "3\n",
      "3\n"
     ]
    },
    {
     "name": "stderr",
     "output_type": "stream",
     "text": [
      " 15%|█████                             | 3/20 [00:00<00:01,  9.19it/s]"
     ]
    },
    {
     "name": "stdout",
     "output_type": "stream",
     "text": [
      "5\n",
      "5\n",
      "5\n"
     ]
    },
    {
     "name": "stderr",
     "output_type": "stream",
     "text": [
      "\r",
      " 40%|█████████████▌                    | 8/20 [00:00<00:00, 18.35it/s]"
     ]
    },
    {
     "name": "stdout",
     "output_type": "stream",
     "text": [
      "5\n",
      "1\n",
      "5\n",
      "5\n"
     ]
    },
    {
     "name": "stderr",
     "output_type": "stream",
     "text": [
      "\r",
      " 60%|███████████████████▊             | 12/20 [00:00<00:00, 19.26it/s]"
     ]
    },
    {
     "name": "stdout",
     "output_type": "stream",
     "text": [
      "5\n",
      "5\n",
      "5\n"
     ]
    },
    {
     "name": "stderr",
     "output_type": "stream",
     "text": [
      "100%|█████████████████████████████████| 20/20 [00:01<00:00, 18.42it/s]\n"
     ]
    },
    {
     "name": "stdout",
     "output_type": "stream",
     "text": [
      "5\n"
     ]
    },
    {
     "name": "stderr",
     "output_type": "stream",
     "text": [
      "\r",
      "  0%|                                          | 0/20 [00:00<?, ?it/s]"
     ]
    },
    {
     "name": "stdout",
     "output_type": "stream",
     "text": [
      "10\n"
     ]
    },
    {
     "name": "stderr",
     "output_type": "stream",
     "text": [
      "\r",
      " 10%|███▍                              | 2/20 [00:00<00:02,  8.00it/s]"
     ]
    },
    {
     "name": "stdout",
     "output_type": "stream",
     "text": [
      "10\n"
     ]
    },
    {
     "name": "stderr",
     "output_type": "stream",
     "text": [
      "\r",
      " 15%|█████                             | 3/20 [00:00<00:02,  6.97it/s]"
     ]
    },
    {
     "name": "stdout",
     "output_type": "stream",
     "text": [
      "10\n",
      "10\n",
      "1\n",
      "10\n"
     ]
    },
    {
     "name": "stderr",
     "output_type": "stream",
     "text": [
      "\r",
      " 55%|██████████████████▏              | 11/20 [00:00<00:00, 20.35it/s]"
     ]
    },
    {
     "name": "stdout",
     "output_type": "stream",
     "text": [
      "7\n",
      "10\n",
      "10\n"
     ]
    },
    {
     "name": "stderr",
     "output_type": "stream",
     "text": [
      "\r",
      " 70%|███████████████████████          | 14/20 [00:00<00:00, 16.84it/s]"
     ]
    },
    {
     "name": "stdout",
     "output_type": "stream",
     "text": [
      "10\n",
      "10\n"
     ]
    },
    {
     "name": "stderr",
     "output_type": "stream",
     "text": [
      "100%|█████████████████████████████████| 20/20 [00:01<00:00, 17.42it/s]\n",
      "  0%|                                          | 0/20 [00:00<?, ?it/s]"
     ]
    },
    {
     "name": "stdout",
     "output_type": "stream",
     "text": [
      "1\n",
      "1\n",
      "1\n",
      "1\n",
      "1\n",
      "1\n",
      "1\n",
      "1\n",
      "1\n"
     ]
    },
    {
     "name": "stderr",
     "output_type": "stream",
     "text": [
      "\r",
      " 80%|██████████████████████████▍      | 16/20 [00:00<00:00, 79.07it/s]"
     ]
    },
    {
     "name": "stdout",
     "output_type": "stream",
     "text": [
      "1\n",
      "1\n"
     ]
    },
    {
     "name": "stderr",
     "output_type": "stream",
     "text": [
      "100%|█████████████████████████████████| 20/20 [00:00<00:00, 92.79it/s]\n"
     ]
    },
    {
     "data": {
      "image/png": "[encoded data removed]",
      "text/plain": [
       "<Figure size 432x288 with 1 Axes>"
      ]
     },
     "metadata": {
      "needs_background": "light"
     },
     "output_type": "display_data"
    }
   ],
   "source": [
    "plot_n(0)\n",
    "plot_n(1)\n",
    "plot_n(3)\n",
    "plot_n(5)\n",
    "plot_n(10)\n",
    "# plot_n(20)\n",
    "plot_n(100)\n",
    "plt.legend()\n",
    "plt.xlim((0, 1))\n",
    "plt.ylim((0.5, 1))\n",
    "plt.show()"
   ]
  },
  {
   "cell_type": "code",
   "execution_count": 143,
   "metadata": {
    "scrolled": true
   },
   "outputs": [
    {
     "name": "stderr",
     "output_type": "stream",
     "text": [
      "100%|█████████████| 20/20 [00:01<00:00, 10.96it/s]\n",
      "100%|█████████████| 20/20 [00:02<00:00,  9.06it/s]\n",
      "100%|█████████████| 20/20 [00:01<00:00, 10.19it/s]\n",
      "100%|█████████████| 20/20 [00:01<00:00, 11.04it/s]\n",
      "100%|█████████████| 20/20 [00:01<00:00, 11.69it/s]\n"
     ]
    },
    {
     "data": {
      "image/png": "[encoded data removed]",
      "text/plain": [
       "<Figure size 432x288 with 1 Axes>"
      ]
     },
     "metadata": {
      "needs_background": "light"
     },
     "output_type": "display_data"
    }
   ],
   "source": [
    "plot_n(1, 1)\n",
    "plot_n(5, 0.1)\n",
    "plot_n(5, 1)\n",
    "plot_n(5, 2)\n",
    "plot_n(5, 4)\n",
    "plt.legend()\n",
    "plt.xlim((0, 1))\n",
    "plt.ylim((0.5, 1))\n",
    "plt.show()"
   ]
  },
  {
   "cell_type": "markdown",
   "metadata": {},
   "source": [
    "the key difference may be the unstability of seed entity pairs..(the so-called top-1 prompt on seed entity pairs may be not best)"
   ]
  },
  {
   "cell_type": "markdown",
   "metadata": {},
   "source": [
    "弥补了seed entity pairs少，不robust的问题，是针对我们setting的一个design. 之前的想法效果不好/有人提过"
   ]
  },
  {
   "cell_type": "markdown",
   "metadata": {},
   "source": [
    "seed entity pairs"
   ]
  },
  {
   "cell_type": "code",
   "execution_count": null,
   "metadata": {},
   "outputs": [],
   "source": [
    "openai.Completion.create(engine=’davinci’, prompt=”q: What is the capital of france?\\na:”, logprobs = 5, stop = “\\n”, temperature=0)"
   ]
  },
  {
   "cell_type": "code",
   "execution_count": 19,
   "metadata": {},
   "outputs": [],
   "source": [
    "def plot_best_one():\n",
    "    pr_list = []\n",
    "    int_r = np.arange(0, 1, 1/2000)\n",
    "    for rel, info in tqdm(relation_info.items()):\n",
    "        if rel not in ckbc._ent_tuples:\n",
    "            continue\n",
    "        ent_tuples = ckbc.get_ent_tuples(rel=rel)\n",
    "        if len(ent_tuples) < 1000:\n",
    "            continue\n",
    "        results = [json.load(open(os.path.join(save_dir, name))) for name in results_list if name.split(\"_\")[0] == rel and \"_0.\" not in name]\n",
    "        results = sorted(results, key=lambda x: -x[\"weight\"][0])[:]\n",
    "        # prompt_weights = [i[\"weight\"][0] for i in results]\n",
    "        # print(prompt_weights)\n",
    "        # prompt_weights = softmax_temperature(prompt_weights, temperature)\n",
    "        # print(prompt_weights)\n",
    "        # print(rel, prompt_weights)\n",
    "        score_dicts = [{(pair[0], pair[1]): score for pair, score in i[\"scores\"]} for i in results]\n",
    "        \n",
    "        best_int_p = np.zeros(2000)\n",
    "        for prompt_score in score_dicts:\n",
    "            y_true, scores = [], []\n",
    "            for tup in ent_tuples:\n",
    "                label = ckbc.get_label(rel=rel, ent_tuple=tup)\n",
    "                y_true.append(label)\n",
    "                cur_score = prompt_score[(tup[0], tup[1])]\n",
    "                scores.append(cur_score)\n",
    "            scores_labels = list(zip(scores, y_true, ent_tuples))\n",
    "            scores_labels.sort(key=lambda x: x[0], reverse=True)\n",
    "            precision, recall = [], []\n",
    "            tp, p, t = 0, 0, sum(y_true)\n",
    "            for score, label, ent_tuple in scores_labels:\n",
    "                p += 1\n",
    "                tp += label\n",
    "                precision.append(tp / p)\n",
    "                recall.append(tp / t)\n",
    "            cur_int_p = np.interp(int_r, recall, precision)\n",
    "            if best_int_p[1000] < cur_int_p[1000]:\n",
    "                best_int_p = cur_int_p \n",
    "        pr_list.append((best_int_p))\n",
    "    # plt.plot(int_r, np.array(pr_list).mean(0), label=label_dic[n] + \"_temp_\" + str(temperature))\n",
    "    plt.plot(int_r, np.array(pr_list).mean(0), label=\"best\")\n",
    "        # print(scores)"
   ]
  },
  {
   "cell_type": "code",
   "execution_count": 20,
   "metadata": {},
   "outputs": [
    {
     "name": "stderr",
     "output_type": "stream",
     "text": [
      "100%|█████████████████████████████████| 20/20 [00:00<00:00, 67.68it/s]\n",
      "  0%|                                          | 0/20 [00:00<?, ?it/s]\n"
     ]
    },
    {
     "ename": "FileNotFoundError",
     "evalue": "[Errno 2] No such file or directory: 'debug_0420/AtLocation_0_auto.json'",
     "output_type": "error",
     "traceback": [
      "\u001b[0;31m---------------------------------------------------------------------------\u001b[0m",
      "\u001b[0;31mFileNotFoundError\u001b[0m                         Traceback (most recent call last)",
      "\u001b[0;32m/tmp/ipykernel_27618/686817462.py\u001b[0m in \u001b[0;36m<module>\u001b[0;34m\u001b[0m\n\u001b[1;32m      1\u001b[0m \u001b[0mplot_best_one\u001b[0m\u001b[0;34m(\u001b[0m\u001b[0;34m)\u001b[0m\u001b[0;34m\u001b[0m\u001b[0;34m\u001b[0m\u001b[0m\n\u001b[0;32m----> 2\u001b[0;31m \u001b[0mplot_n\u001b[0m\u001b[0;34m(\u001b[0m\u001b[0;36m5\u001b[0m\u001b[0;34m)\u001b[0m\u001b[0;34m\u001b[0m\u001b[0;34m\u001b[0m\u001b[0m\n\u001b[0m\u001b[1;32m      3\u001b[0m \u001b[0mplt\u001b[0m\u001b[0;34m.\u001b[0m\u001b[0mlegend\u001b[0m\u001b[0;34m(\u001b[0m\u001b[0;34m)\u001b[0m\u001b[0;34m\u001b[0m\u001b[0;34m\u001b[0m\u001b[0m\n\u001b[1;32m      4\u001b[0m \u001b[0mplt\u001b[0m\u001b[0;34m.\u001b[0m\u001b[0mxlim\u001b[0m\u001b[0;34m(\u001b[0m\u001b[0;34m(\u001b[0m\u001b[0;36m0\u001b[0m\u001b[0;34m,\u001b[0m \u001b[0;36m1\u001b[0m\u001b[0;34m)\u001b[0m\u001b[0;34m)\u001b[0m\u001b[0;34m\u001b[0m\u001b[0;34m\u001b[0m\u001b[0m\n\u001b[1;32m      5\u001b[0m \u001b[0mplt\u001b[0m\u001b[0;34m.\u001b[0m\u001b[0mylim\u001b[0m\u001b[0;34m(\u001b[0m\u001b[0;34m(\u001b[0m\u001b[0;36m0.5\u001b[0m\u001b[0;34m,\u001b[0m \u001b[0;36m1\u001b[0m\u001b[0;34m)\u001b[0m\u001b[0;34m)\u001b[0m\u001b[0;34m\u001b[0m\u001b[0;34m\u001b[0m\u001b[0m\n",
      "\u001b[0;32m/tmp/ipykernel_27618/1553688810.py\u001b[0m in \u001b[0;36mplot_n\u001b[0;34m(n, temperature)\u001b[0m\n\u001b[1;32m     13\u001b[0m             \u001b[0mresults\u001b[0m \u001b[0;34m=\u001b[0m \u001b[0;34m[\u001b[0m\u001b[0mjson\u001b[0m\u001b[0;34m.\u001b[0m\u001b[0mload\u001b[0m\u001b[0;34m(\u001b[0m\u001b[0mopen\u001b[0m\u001b[0;34m(\u001b[0m\u001b[0mos\u001b[0m\u001b[0;34m.\u001b[0m\u001b[0mpath\u001b[0m\u001b[0;34m.\u001b[0m\u001b[0mjoin\u001b[0m\u001b[0;34m(\u001b[0m\u001b[0;34m\"debug_0420\"\u001b[0m\u001b[0;34m,\u001b[0m \u001b[0mname\u001b[0m\u001b[0;34m)\u001b[0m\u001b[0;34m)\u001b[0m\u001b[0;34m)\u001b[0m \u001b[0;32mfor\u001b[0m \u001b[0mname\u001b[0m \u001b[0;32min\u001b[0m \u001b[0mresults_list\u001b[0m \u001b[0;32mif\u001b[0m \u001b[0mname\u001b[0m\u001b[0;34m.\u001b[0m\u001b[0msplit\u001b[0m\u001b[0;34m(\u001b[0m\u001b[0;34m\"_\"\u001b[0m\u001b[0;34m)\u001b[0m\u001b[0;34m[\u001b[0m\u001b[0;36m0\u001b[0m\u001b[0;34m]\u001b[0m \u001b[0;34m==\u001b[0m \u001b[0mrel\u001b[0m \u001b[0;32mand\u001b[0m \u001b[0;34m\"_0_auto.\"\u001b[0m \u001b[0;32min\u001b[0m \u001b[0mname\u001b[0m\u001b[0;34m]\u001b[0m\u001b[0;34m\u001b[0m\u001b[0;34m\u001b[0m\u001b[0m\n\u001b[1;32m     14\u001b[0m         \u001b[0;32melse\u001b[0m\u001b[0;34m:\u001b[0m\u001b[0;34m\u001b[0m\u001b[0;34m\u001b[0m\u001b[0m\n\u001b[0;32m---> 15\u001b[0;31m             \u001b[0mresults\u001b[0m \u001b[0;34m=\u001b[0m \u001b[0;34m[\u001b[0m\u001b[0mjson\u001b[0m\u001b[0;34m.\u001b[0m\u001b[0mload\u001b[0m\u001b[0;34m(\u001b[0m\u001b[0mopen\u001b[0m\u001b[0;34m(\u001b[0m\u001b[0mos\u001b[0m\u001b[0;34m.\u001b[0m\u001b[0mpath\u001b[0m\u001b[0;34m.\u001b[0m\u001b[0mjoin\u001b[0m\u001b[0;34m(\u001b[0m\u001b[0;34m\"debug_0420\"\u001b[0m\u001b[0;34m,\u001b[0m \u001b[0mname\u001b[0m\u001b[0;34m)\u001b[0m\u001b[0;34m)\u001b[0m\u001b[0;34m)\u001b[0m \u001b[0;32mfor\u001b[0m \u001b[0mname\u001b[0m \u001b[0;32min\u001b[0m \u001b[0mresults_list\u001b[0m \u001b[0;32mif\u001b[0m \u001b[0mname\u001b[0m\u001b[0;34m.\u001b[0m\u001b[0msplit\u001b[0m\u001b[0;34m(\u001b[0m\u001b[0;34m\"_\"\u001b[0m\u001b[0;34m)\u001b[0m\u001b[0;34m[\u001b[0m\u001b[0;36m0\u001b[0m\u001b[0;34m]\u001b[0m \u001b[0;34m==\u001b[0m \u001b[0mrel\u001b[0m \u001b[0;32mand\u001b[0m \u001b[0;34m\"_0.\"\u001b[0m \u001b[0;32mnot\u001b[0m \u001b[0;32min\u001b[0m \u001b[0mname\u001b[0m\u001b[0;34m]\u001b[0m\u001b[0;34m\u001b[0m\u001b[0;34m\u001b[0m\u001b[0m\n\u001b[0m\u001b[1;32m     16\u001b[0m             \u001b[0mresults\u001b[0m \u001b[0;34m=\u001b[0m \u001b[0msorted\u001b[0m\u001b[0;34m(\u001b[0m\u001b[0mresults\u001b[0m\u001b[0;34m,\u001b[0m \u001b[0mkey\u001b[0m\u001b[0;34m=\u001b[0m\u001b[0;32mlambda\u001b[0m \u001b[0mx\u001b[0m\u001b[0;34m:\u001b[0m \u001b[0;34m-\u001b[0m\u001b[0mx\u001b[0m\u001b[0;34m[\u001b[0m\u001b[0;34m\"weight\"\u001b[0m\u001b[0;34m]\u001b[0m\u001b[0;34m[\u001b[0m\u001b[0;36m0\u001b[0m\u001b[0;34m]\u001b[0m\u001b[0;34m)\u001b[0m\u001b[0;34m[\u001b[0m\u001b[0;34m:\u001b[0m\u001b[0mn\u001b[0m\u001b[0;34m]\u001b[0m\u001b[0;34m\u001b[0m\u001b[0;34m\u001b[0m\u001b[0m\n\u001b[1;32m     17\u001b[0m \u001b[0;34m\u001b[0m\u001b[0m\n",
      "\u001b[0;32m/tmp/ipykernel_27618/1553688810.py\u001b[0m in \u001b[0;36m<listcomp>\u001b[0;34m(.0)\u001b[0m\n\u001b[1;32m     13\u001b[0m             \u001b[0mresults\u001b[0m \u001b[0;34m=\u001b[0m \u001b[0;34m[\u001b[0m\u001b[0mjson\u001b[0m\u001b[0;34m.\u001b[0m\u001b[0mload\u001b[0m\u001b[0;34m(\u001b[0m\u001b[0mopen\u001b[0m\u001b[0;34m(\u001b[0m\u001b[0mos\u001b[0m\u001b[0;34m.\u001b[0m\u001b[0mpath\u001b[0m\u001b[0;34m.\u001b[0m\u001b[0mjoin\u001b[0m\u001b[0;34m(\u001b[0m\u001b[0;34m\"debug_0420\"\u001b[0m\u001b[0;34m,\u001b[0m \u001b[0mname\u001b[0m\u001b[0;34m)\u001b[0m\u001b[0;34m)\u001b[0m\u001b[0;34m)\u001b[0m \u001b[0;32mfor\u001b[0m \u001b[0mname\u001b[0m \u001b[0;32min\u001b[0m \u001b[0mresults_list\u001b[0m \u001b[0;32mif\u001b[0m \u001b[0mname\u001b[0m\u001b[0;34m.\u001b[0m\u001b[0msplit\u001b[0m\u001b[0;34m(\u001b[0m\u001b[0;34m\"_\"\u001b[0m\u001b[0;34m)\u001b[0m\u001b[0;34m[\u001b[0m\u001b[0;36m0\u001b[0m\u001b[0;34m]\u001b[0m \u001b[0;34m==\u001b[0m \u001b[0mrel\u001b[0m \u001b[0;32mand\u001b[0m \u001b[0;34m\"_0_auto.\"\u001b[0m \u001b[0;32min\u001b[0m \u001b[0mname\u001b[0m\u001b[0;34m]\u001b[0m\u001b[0;34m\u001b[0m\u001b[0;34m\u001b[0m\u001b[0m\n\u001b[1;32m     14\u001b[0m         \u001b[0;32melse\u001b[0m\u001b[0;34m:\u001b[0m\u001b[0;34m\u001b[0m\u001b[0;34m\u001b[0m\u001b[0m\n\u001b[0;32m---> 15\u001b[0;31m             \u001b[0mresults\u001b[0m \u001b[0;34m=\u001b[0m \u001b[0;34m[\u001b[0m\u001b[0mjson\u001b[0m\u001b[0;34m.\u001b[0m\u001b[0mload\u001b[0m\u001b[0;34m(\u001b[0m\u001b[0mopen\u001b[0m\u001b[0;34m(\u001b[0m\u001b[0mos\u001b[0m\u001b[0;34m.\u001b[0m\u001b[0mpath\u001b[0m\u001b[0;34m.\u001b[0m\u001b[0mjoin\u001b[0m\u001b[0;34m(\u001b[0m\u001b[0;34m\"debug_0420\"\u001b[0m\u001b[0;34m,\u001b[0m \u001b[0mname\u001b[0m\u001b[0;34m)\u001b[0m\u001b[0;34m)\u001b[0m\u001b[0;34m)\u001b[0m \u001b[0;32mfor\u001b[0m \u001b[0mname\u001b[0m \u001b[0;32min\u001b[0m \u001b[0mresults_list\u001b[0m \u001b[0;32mif\u001b[0m \u001b[0mname\u001b[0m\u001b[0;34m.\u001b[0m\u001b[0msplit\u001b[0m\u001b[0;34m(\u001b[0m\u001b[0;34m\"_\"\u001b[0m\u001b[0;34m)\u001b[0m\u001b[0;34m[\u001b[0m\u001b[0;36m0\u001b[0m\u001b[0;34m]\u001b[0m \u001b[0;34m==\u001b[0m \u001b[0mrel\u001b[0m \u001b[0;32mand\u001b[0m \u001b[0;34m\"_0.\"\u001b[0m \u001b[0;32mnot\u001b[0m \u001b[0;32min\u001b[0m \u001b[0mname\u001b[0m\u001b[0;34m]\u001b[0m\u001b[0;34m\u001b[0m\u001b[0;34m\u001b[0m\u001b[0m\n\u001b[0m\u001b[1;32m     16\u001b[0m             \u001b[0mresults\u001b[0m \u001b[0;34m=\u001b[0m \u001b[0msorted\u001b[0m\u001b[0;34m(\u001b[0m\u001b[0mresults\u001b[0m\u001b[0;34m,\u001b[0m \u001b[0mkey\u001b[0m\u001b[0;34m=\u001b[0m\u001b[0;32mlambda\u001b[0m \u001b[0mx\u001b[0m\u001b[0;34m:\u001b[0m \u001b[0;34m-\u001b[0m\u001b[0mx\u001b[0m\u001b[0;34m[\u001b[0m\u001b[0;34m\"weight\"\u001b[0m\u001b[0;34m]\u001b[0m\u001b[0;34m[\u001b[0m\u001b[0;36m0\u001b[0m\u001b[0;34m]\u001b[0m\u001b[0;34m)\u001b[0m\u001b[0;34m[\u001b[0m\u001b[0;34m:\u001b[0m\u001b[0mn\u001b[0m\u001b[0;34m]\u001b[0m\u001b[0;34m\u001b[0m\u001b[0;34m\u001b[0m\u001b[0m\n\u001b[1;32m     17\u001b[0m \u001b[0;34m\u001b[0m\u001b[0m\n",
      "\u001b[0;31mFileNotFoundError\u001b[0m: [Errno 2] No such file or directory: 'debug_0420/AtLocation_0_auto.json'"
     ]
    },
    {
     "data": {
      "image/png": "[encoded data removed]",
      "text/plain": [
       "<Figure size 432x288 with 1 Axes>"
      ]
     },
     "metadata": {
      "needs_background": "light"
     },
     "output_type": "display_data"
    }
   ],
   "source": [
    "plot_best_one()\n",
    "plot_n(5)\n",
    "plt.legend()\n",
    "plt.xlim((0, 1))\n",
    "plt.ylim((0.5, 1))\n",
    "plt.show()"
   ]
  },
  {
   "cell_type": "markdown",
   "metadata": {},
   "source": [
    "确定放哪些结果"
   ]
  },
  {
   "cell_type": "code",
   "execution_count": null,
   "metadata": {},
   "outputs": [],
   "source": [
    "def plot_n(n=0, seeds=5):\n",
    "    pr_list = []\n",
    "    int_r = np.arange(0, 1, 1/2000)\n",
    "    relation_info = json.load(open('data/relation_info_5seeds.json'))\n",
    "    for rel, info in tqdm(relation_info.items()):\n",
    "        if rel not in ckbc._ent_tuples:\n",
    "            continue\n",
    "        ent_tuples = ckbc.get_ent_tuples(rel=rel)\n",
    "        if len(ent_tuples) < 1000:\n",
    "            continue\n",
    "        if n != 0:\n",
    "            results = [json.load(open(os.path.join(\"debug_0420\", name))) for name in results_list if name.split(\"_\")[0] == rel and \"_0.\" not in name]\n",
    "            results = sorted(results, key=lambda x: -x[\"weight\"][0])[:n]\n",
    "        else:\n",
    "            results = [json.load(open(os.path.join(\"debug_0420\", name))) for name in results_list if name.split(\"_\")[0] == rel and \"_0.\" in name]\n",
    "        prompt_weights = [i[\"weight\"][0] for i in results]\n",
    "        # print(prompt_weights)\n",
    "        prompt_weights = softmax_temperature(prompt_weights, temperature)\n",
    "        # print(prompt_weights)\n",
    "        # print(rel, prompt_weights)\n",
    "        score_dicts = [{(pair[0], pair[1]): score for pair, score in i[\"scores\"]} for i in results]\n",
    "        y_true, scores = [], []\n",
    "        for tup in ent_tuples:\n",
    "            label = ckbc.get_label(rel=rel, ent_tuple=tup)\n",
    "            y_true.append(label)\n",
    "            cur_score = sum([i* j[(tup[0], tup[1])] for i, j in zip(prompt_weights, score_dicts)])\n",
    "            scores.append(cur_score)\n",
    "        scores_labels = list(zip(scores, y_true, ent_tuples))\n",
    "        scores_labels.sort(key=lambda x: x[0], reverse=True)\n",
    "        precision, recall = [], []\n",
    "        tp, p, t = 0, 0, sum(y_true)\n",
    "        for score, label, ent_tuple in scores_labels:\n",
    "            p += 1\n",
    "            tp += label\n",
    "            precision.append(tp / p)\n",
    "            recall.append(tp / t)\n",
    "\n",
    "        # precision, recall, _ = precision_recall_curve(y_true, scores)\n",
    "        # print(precision[-10:])\n",
    "        int_p = np.interp(int_r, recall, precision)\n",
    "        pr_list.append((int_p))\n",
    "    # plt.plot(int_r, np.array(pr_list).mean(0), label=label_dic[n] + \"_temp_\" + str(temperature))\n",
    "    plt.plot(int_r, np.array(pr_list).mean(0), label=label_dic[n])\n",
    "        # print(scores)"
   ]
  },
  {
   "cell_type": "markdown",
   "metadata": {},
   "source": []
  },
  {
   "cell_type": "markdown",
   "metadata": {},
   "source": [
    "scoring: "
   ]
  },
  {
   "cell_type": "markdown",
   "metadata": {},
   "source": [
    " + PR curve (entity pairs)"
   ]
  },
  {
   "cell_type": "markdown",
   "metadata": {},
   "source": [
    "search + scoring: \n",
    "+ Classifier\n",
    "+ Human eval (should be higher than classifier. Argument: classifier is not good)"
   ]
  },
  {
   "cell_type": "markdown",
   "metadata": {},
   "source": [
    "minor point: what if we don't have seed entity pairs?"
   ]
  },
  {
   "cell_type": "code",
   "execution_count": null,
   "metadata": {},
   "outputs": [],
   "source": []
  }
 ],
 "metadata": {
  "kernelspec": {
   "display_name": "default_env",
   "language": "python",
   "name": "default"
  },
  "language_info": {
   "codemirror_mode": {
    "name": "ipython",
    "version": 3
   },
   "file_extension": ".py",
   "mimetype": "text/x-python",
   "name": "python",
   "nbconvert_exporter": "python",
   "pygments_lexer": "ipython3",
   "version": "3.8.11"
  }
 },
 "nbformat": 4,
 "nbformat_minor": 5
}
