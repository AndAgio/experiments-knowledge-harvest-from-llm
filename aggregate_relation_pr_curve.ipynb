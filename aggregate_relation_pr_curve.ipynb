{
 "cells": [
  {
   "cell_type": "code",
   "execution_count": 1,
   "id": "8b22d4d9",
   "metadata": {},
   "outputs": [],
   "source": [
    "from data_utils.ckbc import CKBC"
   ]
  },
  {
   "cell_type": "code",
   "execution_count": 6,
   "id": "e614b1cb",
   "metadata": {},
   "outputs": [],
   "source": [
    "import os"
   ]
  },
  {
   "cell_type": "code",
   "execution_count": 61,
   "id": "b358d619",
   "metadata": {},
   "outputs": [],
   "source": [
    "import numpy as np"
   ]
  },
  {
   "cell_type": "code",
   "execution_count": 18,
   "id": "d88d1c1c",
   "metadata": {},
   "outputs": [],
   "source": [
    "from scipy.special import softmax"
   ]
  },
  {
   "cell_type": "code",
   "execution_count": 36,
   "id": "8edff840",
   "metadata": {},
   "outputs": [],
   "source": [
    "from sklearn.metrics import precision_recall_curve"
   ]
  },
  {
   "cell_type": "code",
   "execution_count": 38,
   "id": "f817ef70",
   "metadata": {},
   "outputs": [],
   "source": [
    "import matplotlib.pyplot as plt"
   ]
  },
  {
   "cell_type": "code",
   "execution_count": 3,
   "id": "0a50f860",
   "metadata": {},
   "outputs": [],
   "source": [
    "import json\n",
    "from models.knowledge_harvester import KnowledgeHarvester"
   ]
  },
  {
   "cell_type": "code",
   "execution_count": 40,
   "id": "217ca042",
   "metadata": {},
   "outputs": [],
   "source": [
    "from tqdm import *"
   ]
  },
  {
   "cell_type": "code",
   "execution_count": 90,
   "id": "2d27d533",
   "metadata": {},
   "outputs": [],
   "source": [
    "def softmax_temperature(x, temperature=1):\n",
    "    x = np.array(x) / temperature\n",
    "    return np.exp(x)/sum(np.exp(x))"
   ]
  },
  {
   "cell_type": "code",
   "execution_count": 7,
   "id": "fbded63e",
   "metadata": {},
   "outputs": [],
   "source": [
    "ckbc = CKBC(file='conceptnet_high_quality.txt')\n",
    "# knowledge_harvester = KnowledgeHarvester(\n",
    "#     model_name='roberta-large', max_n_ent_tuples=None)\n",
    "\n",
    "save_dir = 'debug_0420/'\n",
    "os.makedirs(save_dir, exist_ok=True)\n",
    "\n",
    "relation_info = json.load(open('data/relation_info_5seeds.json'))"
   ]
  },
  {
   "cell_type": "code",
   "execution_count": 13,
   "id": "6cc6505e",
   "metadata": {},
   "outputs": [],
   "source": [
    "results_list = os.listdir(\"debug_0420\")"
   ]
  },
  {
   "cell_type": "code",
   "execution_count": 123,
   "id": "63779e2f",
   "metadata": {},
   "outputs": [],
   "source": [
    "label_dic = {\n",
    "    0: \"initial\",\n",
    "    1: \"top-1\",\n",
    "    3: \"top-3\",\n",
    "    5: \"top-5\",\n",
    "    10: \"top-10\",\n",
    "    20: \"top-20\"\n",
    "}"
   ]
  },
  {
   "cell_type": "code",
   "execution_count": 132,
   "id": "987f69bd",
   "metadata": {
    "scrolled": false
   },
   "outputs": [
    {
     "name": "stderr",
     "output_type": "stream",
     "text": [
      "100%|██████████████████████████████| 20/20 [00:00<00:00, 23689.94it/s]"
     ]
    },
    {
     "name": "stdout",
     "output_type": "stream",
     "text": [
      "AtLocation\n",
      "CapableOf\n",
      "Causes\n",
      "CausesDesire\n",
      "Desires\n",
      "HasA\n",
      "HasPrerequisite\n",
      "HasProperty\n",
      "IsA\n",
      "MotivatedByGoal\n",
      "UsedFor\n"
     ]
    },
    {
     "name": "stderr",
     "output_type": "stream",
     "text": [
      "\n"
     ]
    }
   ],
   "source": [
    "for rel, info in tqdm(relation_info.items()):\n",
    "    if rel not in ckbc._ent_tuples:\n",
    "        continue\n",
    "    ent_tuples = ckbc.get_ent_tuples(rel=rel)\n",
    "    if len(ent_tuples) < 1000:\n",
    "        continue\n",
    "    print(rel)"
   ]
  },
  {
   "cell_type": "code",
   "execution_count": 142,
   "id": "f86e6d61",
   "metadata": {},
   "outputs": [],
   "source": [
    "def plot_n(n=0, temperature=1):\n",
    "    pr_list = []\n",
    "    int_r = np.arange(0, 1, 1/2000)\n",
    "    for rel, info in tqdm(relation_info.items()):\n",
    "        if rel not in ckbc._ent_tuples:\n",
    "            continue\n",
    "        ent_tuples = ckbc.get_ent_tuples(rel=rel)\n",
    "        if len(ent_tuples) < 1000:\n",
    "            continue\n",
    "        if n != 0:\n",
    "            results = [json.load(open(os.path.join(\"debug_0420\", name))) for name in results_list if name.split(\"_\")[0] == rel and \"_0.\" not in name]\n",
    "            results = sorted(results, key=lambda x: -x[\"weight\"][0])[:n]\n",
    "        else:\n",
    "            results = [json.load(open(os.path.join(\"debug_0420\", name))) for name in results_list if name.split(\"_\")[0] == rel and \"_0.\" in name]\n",
    "        prompt_weights = [i[\"weight\"][0] for i in results]\n",
    "        # print(prompt_weights)\n",
    "        prompt_weights = softmax_temperature(prompt_weights, temperature)\n",
    "        # print(prompt_weights)\n",
    "        # print(rel, prompt_weights)\n",
    "        score_dicts = [{(pair[0], pair[1]): score for pair, score in i[\"scores\"]} for i in results]\n",
    "        y_true, scores = [], []\n",
    "        for tup in ent_tuples:\n",
    "            label = ckbc.get_label(rel=rel, ent_tuple=tup)\n",
    "            y_true.append(label)\n",
    "            cur_score = sum([i* j[(tup[0], tup[1])] for i, j in zip(prompt_weights, score_dicts)])\n",
    "            scores.append(cur_score)\n",
    "        scores_labels = list(zip(scores, y_true, ent_tuples))\n",
    "        scores_labels.sort(key=lambda x: x[0], reverse=True)\n",
    "        precision, recall = [], []\n",
    "        tp, p, t = 0, 0, sum(y_true)\n",
    "        for score, label, ent_tuple in scores_labels:\n",
    "            p += 1\n",
    "            tp += label\n",
    "            precision.append(tp / p)\n",
    "            recall.append(tp / t)\n",
    "\n",
    "        # precision, recall, _ = precision_recall_curve(y_true, scores)\n",
    "        # print(precision[-10:])\n",
    "        int_p = np.interp(int_r, recall, precision)\n",
    "        pr_list.append((int_p))\n",
    "    plt.plot(int_r, np.array(pr_list).mean(0), label=label_dic[n] + \"_temp_\" + str(temperature))\n",
    "    # plt.plot(int_r, np.array(pr_list).mean(0), label=label_dic[n])\n",
    "        # print(scores)"
   ]
  },
  {
   "cell_type": "code",
   "execution_count": 130,
   "id": "b62df0c7",
   "metadata": {
    "scrolled": false
   },
   "outputs": [
    {
     "name": "stderr",
     "output_type": "stream",
     "text": [
      "100%|████████████████████████████████| 20/20 [00:00<00:00, 101.02it/s]\n",
      "100%|█████████████████████████████████| 20/20 [00:02<00:00,  8.37it/s]\n",
      "100%|█████████████████████████████████| 20/20 [00:02<00:00,  7.91it/s]\n",
      "100%|█████████████████████████████████| 20/20 [00:02<00:00,  8.37it/s]\n",
      "100%|█████████████████████████████████| 20/20 [00:03<00:00,  6.33it/s]\n",
      "100%|█████████████████████████████████| 20/20 [00:03<00:00,  6.62it/s]\n"
     ]
    },
    {
     "data": {
      "image/png": "[encoded data removed]",
      "text/plain": [
       "<Figure size 432x288 with 1 Axes>"
      ]
     },
     "metadata": {
      "needs_background": "light"
     },
     "output_type": "display_data"
    }
   ],
   "source": [
    "plot_n(0)\n",
    "plot_n(1)\n",
    "plot_n(3)\n",
    "plot_n(5)\n",
    "plot_n(10)\n",
    "plot_n(20)\n",
    "plt.legend()\n",
    "plt.xlim((0, 1))\n",
    "plt.ylim((0.5, 1))\n",
    "plt.show()"
   ]
  },
  {
   "cell_type": "code",
   "execution_count": 143,
   "id": "d8e4d37a",
   "metadata": {
    "scrolled": true
   },
   "outputs": [
    {
     "name": "stderr",
     "output_type": "stream",
     "text": [
      "100%|█████████████| 20/20 [00:01<00:00, 10.96it/s]\n",
      "100%|█████████████| 20/20 [00:02<00:00,  9.06it/s]\n",
      "100%|█████████████| 20/20 [00:01<00:00, 10.19it/s]\n",
      "100%|█████████████| 20/20 [00:01<00:00, 11.04it/s]\n",
      "100%|█████████████| 20/20 [00:01<00:00, 11.69it/s]\n"
     ]
    },
    {
     "data": {
      "image/png": "[encoded data removed]",
      "text/plain": [
       "<Figure size 432x288 with 1 Axes>"
      ]
     },
     "metadata": {
      "needs_background": "light"
     },
     "output_type": "display_data"
    }
   ],
   "source": [
    "plot_n(1, 1)\n",
    "plot_n(5, 0.1)\n",
    "plot_n(5, 1)\n",
    "plot_n(5, 2)\n",
    "plot_n(5, 4)\n",
    "plt.legend()\n",
    "plt.xlim((0, 1))\n",
    "plt.ylim((0.5, 1))\n",
    "plt.show()"
   ]
  },
  {
   "cell_type": "markdown",
   "id": "72a5facf",
   "metadata": {},
   "source": [
    "the key difference may be the unstability of seed entity pairs..(the so-called top-1 prompt on seed entity pairs may be not best)"
   ]
  },
  {
   "cell_type": "markdown",
   "id": "e1b859d0",
   "metadata": {},
   "source": [
    "弥补了seed entity pairs少，不robust的问题，是针对我们setting的一个design. 之前的想法效果不好/有人提过"
   ]
  },
  {
   "cell_type": "markdown",
   "id": "c90bff2f",
   "metadata": {},
   "source": [
    "seed entity pairs"
   ]
  },
  {
   "cell_type": "code",
   "execution_count": null,
   "id": "70780cf6",
   "metadata": {},
   "outputs": [],
   "source": [
    "openai.Completion.create(engine=’davinci’, prompt=”q: What is the capital of france?\\na:”, logprobs = 5, stop = “\\n”, temperature=0)"
   ]
  },
  {
   "cell_type": "code",
   "execution_count": 137,
   "id": "f14e9d59",
   "metadata": {},
   "outputs": [],
   "source": [
    "def plot_best_one():\n",
    "    pr_list = []\n",
    "    int_r = np.arange(0, 1, 1/2000)\n",
    "    for rel, info in tqdm(relation_info.items()):\n",
    "        if rel not in ckbc._ent_tuples:\n",
    "            continue\n",
    "        ent_tuples = ckbc.get_ent_tuples(rel=rel)\n",
    "        if len(ent_tuples) < 1000:\n",
    "            continue\n",
    "        results = [json.load(open(os.path.join(\"debug_0420\", name))) for name in results_list if name.split(\"_\")[0] == rel and \"_0.\" not in name]\n",
    "        results = sorted(results, key=lambda x: -x[\"weight\"][0])[:]\n",
    "        # prompt_weights = [i[\"weight\"][0] for i in results]\n",
    "        # print(prompt_weights)\n",
    "        # prompt_weights = softmax_temperature(prompt_weights, temperature)\n",
    "        # print(prompt_weights)\n",
    "        # print(rel, prompt_weights)\n",
    "        score_dicts = [{(pair[0], pair[1]): score for pair, score in i[\"scores\"]} for i in results]\n",
    "        \n",
    "        best_int_p = np.zeros(2000)\n",
    "        for prompt_score in score_dicts:\n",
    "            y_true, scores = [], []\n",
    "            for tup in ent_tuples:\n",
    "                label = ckbc.get_label(rel=rel, ent_tuple=tup)\n",
    "                y_true.append(label)\n",
    "                cur_score = prompt_score[(tup[0], tup[1])]\n",
    "                scores.append(cur_score)\n",
    "            scores_labels = list(zip(scores, y_true, ent_tuples))\n",
    "            scores_labels.sort(key=lambda x: x[0], reverse=True)\n",
    "            precision, recall = [], []\n",
    "            tp, p, t = 0, 0, sum(y_true)\n",
    "            for score, label, ent_tuple in scores_labels:\n",
    "                p += 1\n",
    "                tp += label\n",
    "                precision.append(tp / p)\n",
    "                recall.append(tp / t)\n",
    "            cur_int_p = np.interp(int_r, recall, precision)\n",
    "            if best_int_p[1000] < cur_int_p[1000]:\n",
    "                best_int_p = cur_int_p \n",
    "        pr_list.append((best_int_p))\n",
    "    # plt.plot(int_r, np.array(pr_list).mean(0), label=label_dic[n] + \"_temp_\" + str(temperature))\n",
    "    plt.plot(int_r, np.array(pr_list).mean(0), label=\"best\")\n",
    "        # print(scores)"
   ]
  },
  {
   "cell_type": "code",
   "execution_count": 139,
   "id": "722fb849",
   "metadata": {},
   "outputs": [
    {
     "name": "stderr",
     "output_type": "stream",
     "text": [
      "100%|█████████████| 20/20 [00:02<00:00,  6.93it/s]\n",
      "100%|█████████████| 20/20 [00:01<00:00, 11.17it/s]\n"
     ]
    },
    {
     "data": {
      "image/png": "[encoded data removed]",
      "text/plain": [
       "<Figure size 432x288 with 1 Axes>"
      ]
     },
     "metadata": {
      "needs_background": "light"
     },
     "output_type": "display_data"
    }
   ],
   "source": [
    "plot_best_one()\n",
    "plot_n(5)\n",
    "plt.legend()\n",
    "plt.xlim((0, 1))\n",
    "plt.ylim((0.5, 1))\n",
    "plt.show()"
   ]
  },
  {
   "cell_type": "markdown",
   "id": "266e81ee",
   "metadata": {},
   "source": [
    "确定放哪些结果"
   ]
  },
  {
   "cell_type": "code",
   "execution_count": null,
   "id": "8d2b11ed",
   "metadata": {},
   "outputs": [],
   "source": [
    "def plot_n(n=0, seeds=5):\n",
    "    pr_list = []\n",
    "    int_r = np.arange(0, 1, 1/2000)\n",
    "    relation_info = json.load(open('data/relation_info_5seeds.json'))\n",
    "    for rel, info in tqdm(relation_info.items()):\n",
    "        if rel not in ckbc._ent_tuples:\n",
    "            continue\n",
    "        ent_tuples = ckbc.get_ent_tuples(rel=rel)\n",
    "        if len(ent_tuples) < 1000:\n",
    "            continue\n",
    "        if n != 0:\n",
    "            results = [json.load(open(os.path.join(\"debug_0420\", name))) for name in results_list if name.split(\"_\")[0] == rel and \"_0.\" not in name]\n",
    "            results = sorted(results, key=lambda x: -x[\"weight\"][0])[:n]\n",
    "        else:\n",
    "            results = [json.load(open(os.path.join(\"debug_0420\", name))) for name in results_list if name.split(\"_\")[0] == rel and \"_0.\" in name]\n",
    "        prompt_weights = [i[\"weight\"][0] for i in results]\n",
    "        # print(prompt_weights)\n",
    "        prompt_weights = softmax_temperature(prompt_weights, temperature)\n",
    "        # print(prompt_weights)\n",
    "        # print(rel, prompt_weights)\n",
    "        score_dicts = [{(pair[0], pair[1]): score for pair, score in i[\"scores\"]} for i in results]\n",
    "        y_true, scores = [], []\n",
    "        for tup in ent_tuples:\n",
    "            label = ckbc.get_label(rel=rel, ent_tuple=tup)\n",
    "            y_true.append(label)\n",
    "            cur_score = sum([i* j[(tup[0], tup[1])] for i, j in zip(prompt_weights, score_dicts)])\n",
    "            scores.append(cur_score)\n",
    "        scores_labels = list(zip(scores, y_true, ent_tuples))\n",
    "        scores_labels.sort(key=lambda x: x[0], reverse=True)\n",
    "        precision, recall = [], []\n",
    "        tp, p, t = 0, 0, sum(y_true)\n",
    "        for score, label, ent_tuple in scores_labels:\n",
    "            p += 1\n",
    "            tp += label\n",
    "            precision.append(tp / p)\n",
    "            recall.append(tp / t)\n",
    "\n",
    "        # precision, recall, _ = precision_recall_curve(y_true, scores)\n",
    "        # print(precision[-10:])\n",
    "        int_p = np.interp(int_r, recall, precision)\n",
    "        pr_list.append((int_p))\n",
    "    # plt.plot(int_r, np.array(pr_list).mean(0), label=label_dic[n] + \"_temp_\" + str(temperature))\n",
    "    plt.plot(int_r, np.array(pr_list).mean(0), label=label_dic[n])\n",
    "        # print(scores)"
   ]
  },
  {
   "cell_type": "markdown",
   "id": "85d7fb54",
   "metadata": {},
   "source": []
  },
  {
   "cell_type": "markdown",
   "id": "ab83d540",
   "metadata": {},
   "source": [
    "scoring: "
   ]
  },
  {
   "cell_type": "markdown",
   "id": "d0f42827",
   "metadata": {},
   "source": [
    " + PR curve (entity pairs)"
   ]
  },
  {
   "cell_type": "markdown",
   "id": "e3a6cf66",
   "metadata": {},
   "source": [
    "search + scoring: \n",
    "+ Classifier\n",
    "+ Human eval (should be higher than classifier. Argument: classifier is not good)"
   ]
  },
  {
   "cell_type": "markdown",
   "id": "4901ed46",
   "metadata": {},
   "source": [
    "minor point: what if we don't have seed entity pairs?"
   ]
  },
  {
   "cell_type": "code",
   "execution_count": null,
   "id": "bade9542",
   "metadata": {},
   "outputs": [],
   "source": []
  }
 ],
 "metadata": {
  "kernelspec": {
   "display_name": "default_env",
   "language": "python",
   "name": "default"
  },
  "language_info": {
   "codemirror_mode": {
    "name": "ipython",
    "version": 3
   },
   "file_extension": ".py",
   "mimetype": "text/x-python",
   "name": "python",
   "nbconvert_exporter": "python",
   "pygments_lexer": "ipython3",
   "version": "3.8.11"
  }
 },
 "nbformat": 4,
 "nbformat_minor": 5
}
